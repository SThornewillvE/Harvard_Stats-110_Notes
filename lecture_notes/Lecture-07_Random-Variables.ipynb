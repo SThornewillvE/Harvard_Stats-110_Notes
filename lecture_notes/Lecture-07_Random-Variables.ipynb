{
 "cells": [
  {
   "cell_type": "markdown",
   "metadata": {},
   "source": [
    "# Lecture 7: Random Variables"
   ]
  },
  {
   "cell_type": "code",
   "execution_count": 1,
   "metadata": {},
   "outputs": [],
   "source": [
    "import numpy as np\n",
    "import matplotlib.pyplot as plt\n",
    "\n",
    "from helper_functions import nCr\n"
   ]
  },
  {
   "cell_type": "markdown",
   "metadata": {},
   "source": [
    "## Part 1. What is a random variable\n",
    "\n",
    "We often think of variables as being something that can change, but really they are static and their value is simply unknown.\n",
    "\n",
    "In the equation, $x + 5 = 7$, `x` can only be one value, 2.\n",
    "\n",
    "So what can it mean for a variable to be random.\n",
    "\n",
    "What it means is that it was drawn from some kind of distribution."
   ]
  },
  {
   "cell_type": "markdown",
   "metadata": {},
   "source": [
    "## Part 2. Bernouli Distribution\n",
    "\n",
    "The simplest distribution is the bernouli distribution.\n",
    "\n",
    "\"If x has 2 values {0, 1} then it will have a probability of being either 1 or 0\". "
   ]
  },
  {
   "cell_type": "code",
   "execution_count": 2,
   "metadata": {},
   "outputs": [],
   "source": [
    "def bern(p, x=1):\n",
    "    if x == 1:\n",
    "        return p\n",
    "    else:\n",
    "        return 1-p"
   ]
  },
  {
   "cell_type": "code",
   "execution_count": 3,
   "metadata": {},
   "outputs": [
    {
     "data": {
      "image/png": "[encoded data removed]",
      "text/plain": [
       "<Figure size 432x288 with 1 Axes>"
      ]
     },
     "metadata": {
      "needs_background": "light"
     },
     "output_type": "display_data"
    }
   ],
   "source": [
    "# Probability of 1\n",
    "p = 0.5\n",
    "\n",
    "plt.bar(range(0,2), [bern(p, i) for i in range(0, 2)], alpha=0.6)\n",
    "plt.xticks([0, 1])\n",
    "plt.ylabel(\"Probability\")\n",
    "plt.title(\"Bernouli Trial, p={}\".format(p))\n",
    "plt.show()"
   ]
  },
  {
   "cell_type": "markdown",
   "metadata": {},
   "source": [
    "We can even think of multiple successive trials to create a binomial distribution"
   ]
  },
  {
   "cell_type": "markdown",
   "metadata": {},
   "source": [
    "## Part 3. Binomial Distribution"
   ]
  },
  {
   "cell_type": "code",
   "execution_count": 4,
   "metadata": {},
   "outputs": [],
   "source": [
    "def binomial(n, p, k):\n",
    "    return nCr(n, k) * p**k * (1-p)**(n-k)  # i.e. Probability of getting a number of successes and failures multiplied by the number of ways its possible"
   ]
  },
  {
   "cell_type": "code",
   "execution_count": 5,
   "metadata": {},
   "outputs": [
    {
     "data": {
      "image/png": "[encoded data removed]",
      "text/plain": [
       "<Figure size 432x288 with 1 Axes>"
      ]
     },
     "metadata": {
      "needs_background": "light"
     },
     "output_type": "display_data"
    }
   ],
   "source": [
    "# Probability of 1\n",
    "n = 10  # 10 coin flips\n",
    "\n",
    "plt.bar(range(0,11), [binomial(n, p, i) for i in range(0, 11)], alpha=0.6)\n",
    "plt.xticks(range(0, 11))\n",
    "plt.ylabel(\"Probability\")\n",
    "plt.title(\"Bernouli Trial, p={}\".format(p))\n",
    "plt.show()"
   ]
  },
  {
   "cell_type": "markdown",
   "metadata": {},
   "source": [
    "You can try messing with the probability to see different distributions. Not all bionomial distributions are symmetric!\n",
    "\n",
    "\n",
    "Also note that this distribution adds to 1"
   ]
  },
  {
   "cell_type": "code",
   "execution_count": 6,
   "metadata": {},
   "outputs": [
    {
     "data": {
      "text/plain": [
       "1.0"
      ]
     },
     "execution_count": 6,
     "metadata": {},
     "output_type": "execute_result"
    }
   ],
   "source": [
    "sum([binomial(n, p, i) for i in range(0, 11)])"
   ]
  },
  {
   "cell_type": "code",
   "execution_count": null,
   "metadata": {},
   "outputs": [],
   "source": []
  }
 ],
 "metadata": {
  "kernelspec": {
   "display_name": "Python 3",
   "language": "python",
   "name": "python3"
  },
  "language_info": {
   "codemirror_mode": {
    "name": "ipython",
    "version": 3
   },
   "file_extension": ".py",
   "mimetype": "text/x-python",
   "name": "python",
   "nbconvert_exporter": "python",
   "pygments_lexer": "ipython3",
   "version": "3.6.8"
  }
 },
 "nbformat": 4,
 "nbformat_minor": 2
}
