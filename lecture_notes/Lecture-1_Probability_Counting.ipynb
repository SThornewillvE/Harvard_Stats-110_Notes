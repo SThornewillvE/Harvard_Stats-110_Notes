{
 "cells": [
  {
   "cell_type": "markdown",
   "metadata": {},
   "source": [
    "# Lecture 1: Probability and Counting"
   ]
  },
  {
   "cell_type": "code",
   "execution_count": 1,
   "metadata": {},
   "outputs": [],
   "source": [
    "import numpy as np"
   ]
  },
  {
   "cell_type": "markdown",
   "metadata": {},
   "source": [
    "Statistics is the logic of uncertainity.\n",
    "\n",
    "## Naive definition of probability\n",
    "\n",
    "The probability of an event happening is the number of ways an event can happen over a sample space (all possibilities in an \"experiment\").\n",
    "\n",
    "$$P(A) = \\frac{outcomes_A}{outcomes}$$\n",
    "\n",
    "This naive definition assumes a finite sample size and that all outcomes are equally likely. \n",
    "\n",
    "Note that this quickly becomes an unworkable definition. (Consider trying to enumerate the number of possible configurations of any complex system such as the weather.)\n",
    "\n",
    "## Multiplication Rule\n",
    "\n",
    "The multiplication rule states that if there is a tree of probabilities (i.e. events happening after another) then the probability of each terminal node is equal to all of the probabilities that come before multiplied together.\n",
    "\n",
    "i.e. if choice 1 has 2 outcomes and choice 2 has 3 outcomes then the probability of any final node is $2 \\times 3$.\n",
    "\n",
    "## Factorials\n",
    "\n",
    "Often when doing classical stats, you will find that you will take successive choices without replacement. This means that if you have a set of things you can choose from, with each successive choice you have one less that you can choose from.\n",
    "\n",
    "The total number of choices of a set of length $n$ is $n!$\n",
    "\n",
    "$$\\prod_{i=1}^{n} n-i+1$$\n",
    "\n",
    "This can be inplemented in python using recursion below."
   ]
  },
  {
   "cell_type": "code",
   "execution_count": 41,
   "metadata": {},
   "outputs": [],
   "source": [
    "def factorial(n):\n",
    "    \"\"\"\n",
    "    Returns n!\n",
    "    \n",
    "    :Inputs:\n",
    "        :n: Number to be factorials\n",
    "    :Returns:\n",
    "        :n_factorial: Integer, factorial of n\n",
    "    \"\"\"\n",
    "    \n",
    "    \n",
    "    if n == 1:  \n",
    "        return n  \n",
    "    elif n == 0:\n",
    "        return 1\n",
    "    else:  \n",
    "        return n*factorial(n-1)  "
   ]
  },
  {
   "cell_type": "markdown",
   "metadata": {},
   "source": [
    "## Choices\n",
    "\n",
    "If you have a total of n choices and you decide to choose r items then the number of possible configurations is nCr. i.e. \"n choose r\". \n",
    "\n",
    "For a set, we have elements that we can change and elements that we cannot. the total number of configurations is simply $n!$ but the number of sub configurations changing what we can and what we cant is equal to $k!(n-k)!$\n",
    "\n",
    "This means that the number of configurations we are looking for is $\\frac{n!}{k!(n-k)!}$\n",
    "\n",
    "Note that if k = 0 then there is only one way to make the choice and if the number of choices exceeds the number of objects in our set then the number of possibilities is 0"
   ]
  },
  {
   "cell_type": "code",
   "execution_count": 56,
   "metadata": {},
   "outputs": [],
   "source": [
    "def choice(n, r):\n",
    "    \"\"\"\n",
    "    Implements nCr. \n",
    "    \n",
    "    :Inputs:\n",
    "        :n: Total number of possible choices\n",
    "        :r: Number of choices taken\n",
    "    :Returns:\n",
    "        :nCr: N choose r\n",
    "    \"\"\"\n",
    "    \n",
    "    \n",
    "    if r == 0:\n",
    "        return float(1)\n",
    "    \n",
    "    if r > n:\n",
    "        return float(0)\n",
    "    \n",
    "    m = n-r\n",
    "    \n",
    "    num = factorial(n)\n",
    "    denom = factorial(r) * factorial(m)\n",
    "    \n",
    "    return num/denom"
   ]
  },
  {
   "cell_type": "markdown",
   "metadata": {},
   "source": [
    "## Example: Probability of getting a full house\n",
    "\n",
    "This means that if we want to get the probability of getting a full house then the total number of configurations is 52C5. (i.e. All configurations of drawing 5 cards of a 52 card deck.)\n",
    "\n",
    "The number of outcomes we are interested in depends in drawing 3 cards of 1 type and drawing 2 cards of a different type.\n",
    "\n",
    "Given that there are 13 ranks then the probability of choosing 1 is 13C1, choosing a random assortment of 3 or 4 suits is 4C3.\n",
    "\n",
    "Then, we have 13-1 ranks left to choose from, 12C1. We then choose 3 or 4 suits as before, 4C3.\n",
    "\n",
    "This means that the probability of drawing a full house is as follows:\n",
    "\n",
    "$$P(F.H.) = \\frac{{13 \\choose 1}{4 \\choose 3}{{13-1} \\choose 1}{4 \\choose 3}}{52 \\choose 5}$$"
   ]
  },
  {
   "cell_type": "code",
   "execution_count": 71,
   "metadata": {},
   "outputs": [
    {
     "data": {
      "text/plain": [
       "0.0009603841536614646"
      ]
     },
     "execution_count": 71,
     "metadata": {},
     "output_type": "execute_result"
    }
   ],
   "source": [
    "p_fullhouse = (choice(13, 1) * choice(4, 3) * choice(12, 1) * choice(4, 3)) / (choice(52, 5))\n",
    "\n",
    "p_fullhouse"
   ]
  },
  {
   "cell_type": "markdown",
   "metadata": {},
   "source": [
    "## Different types of counting\n",
    "\n",
    "We can think about counting in terms of a 2x2 matrix. \n",
    "\n",
    "On one axis, we have whether or not the problem involves replacement and on the other we can think about whether the order matters.\n",
    "\n",
    "We already have simple cases.\n",
    "\n",
    "* If the order doesn't matter and the there is no replacement then the number of arrangements is $n \\choose k$\n",
    "* If the opposite is true, order matters and we are replacing, then number of arrangements is $n^k$\n",
    "* If replacement doesnt matter then number of arragements is $n! = \\prod_{i=1}^{n} n-i+1$\n",
    "\n",
    "The last one, finding the number of arragements when replacement matters but order doesn't will be done in the next lecture."
   ]
  },
  {
   "cell_type": "code",
   "execution_count": null,
   "metadata": {},
   "outputs": [],
   "source": []
  }
 ],
 "metadata": {
  "kernelspec": {
   "display_name": "Python 3",
   "language": "python",
   "name": "python3"
  },
  "language_info": {
   "codemirror_mode": {
    "name": "ipython",
    "version": 3
   },
   "file_extension": ".py",
   "mimetype": "text/x-python",
   "name": "python",
   "nbconvert_exporter": "python",
   "pygments_lexer": "ipython3",
   "version": "3.7.3"
  }
 },
 "nbformat": 4,
 "nbformat_minor": 2
}
