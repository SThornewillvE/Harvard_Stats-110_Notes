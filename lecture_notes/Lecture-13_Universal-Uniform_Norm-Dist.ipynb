{
 "cells": [
  {
   "cell_type": "markdown",
   "metadata": {},
   "source": [
    "# Lecture 13: The Universality of the Uniform and The Normal Distribution"
   ]
  },
  {
   "cell_type": "code",
   "execution_count": 1,
   "metadata": {},
   "outputs": [],
   "source": [
    "import numpy as np\n",
    "import matplotlib.pyplot as plt"
   ]
  },
  {
   "cell_type": "code",
   "execution_count": 2,
   "metadata": {},
   "outputs": [],
   "source": [
    "def calculate_CDF(X):\n",
    "    \n",
    "    data_sorted = np.sort(X)\n",
    "    \n",
    "    p = 1 * np.arange(len(X)) / (len(X) - 1)\n",
    "    \n",
    "    return data_sorted, p"
   ]
  },
  {
   "cell_type": "code",
   "execution_count": 3,
   "metadata": {},
   "outputs": [],
   "source": [
    "class exp_CDF:\n",
    "    def __init__(self, lmbda = 1):\n",
    "        self.lmbda = lmbda\n",
    "    \n",
    "    def evaluate(self, x):\n",
    "        return 1 - np.exp(-self.lmbda * x)\n",
    "    \n",
    "    def inverse(self, y):\n",
    "        return -np.log(1-y)/self.lmbda"
   ]
  },
  {
   "cell_type": "markdown",
   "metadata": {},
   "source": [
    "## Part 1. The Universality of the Uniform\n",
    "\n",
    "Let $U \\sim \\textrm{Uniform}(0, 1)$ and let $F$ be a monotonically increasing CDF.\n",
    "\n",
    "The theorem of the universality of the uniform means if $X = F^{-1}(U)$ then $X \\sim F$.\n",
    "\n",
    "Also, for any random var $X$, if it is distributed by $F$ then $F(X) \\sim \\textrm{Uniform}(0, 1)$"
   ]
  },
  {
   "cell_type": "code",
   "execution_count": 4,
   "metadata": {},
   "outputs": [],
   "source": [
    "U_vars = np.random.uniform(0, 1, size=50_000)\n",
    "F = exp_CDF(lmbda=1.5)\n",
    "X = F.inverse(U_vars)"
   ]
  },
  {
   "cell_type": "code",
   "execution_count": 5,
   "metadata": {},
   "outputs": [
    {
     "data": {
      "image/png": "[encoded data removed]",
      "text/plain": [
       "<Figure size 432x288 with 2 Axes>"
      ]
     },
     "metadata": {
      "needs_background": "light"
     },
     "output_type": "display_data"
    }
   ],
   "source": [
    "CDF_x, CDF_y = calculate_CDF(X)\n",
    "fig = plt.figure()\n",
    "ax1 = fig.add_subplot(121)\n",
    "ax1.hist(X, bins=50)\n",
    "\n",
    "ax2 = fig.add_subplot(122)\n",
    "ax2.plot(CDF_x, CDF_y)\n",
    "plt.show()"
   ]
  },
  {
   "cell_type": "markdown",
   "metadata": {},
   "source": [
    "This way, so long as we have a CDF (and inverse CDF) of a function, then we can simulate any distribution that we want.\n",
    "\n",
    "Note, that if we now take $X$ and plug it back into $F(x)$ then we will get our $U(0, 1)$ back."
   ]
  },
  {
   "cell_type": "code",
   "execution_count": 6,
   "metadata": {},
   "outputs": [
    {
     "data": {
      "image/png": "[encoded data removed]",
      "text/plain": [
       "<Figure size 432x288 with 1 Axes>"
      ]
     },
     "metadata": {
      "needs_background": "light"
     },
     "output_type": "display_data"
    }
   ],
   "source": [
    "U_return = F.evaluate(X)\n",
    "\n",
    "plt.hist(U_return, bins=5)\n",
    "plt.ylabel(\"Freq.\")\n",
    "plt.xlabel(\"U\")\n",
    "plt.title(\"Histogram of $U = F(X)$\")\n",
    "plt.show()"
   ]
  },
  {
   "cell_type": "markdown",
   "metadata": {},
   "source": [
    "What's the proof of this?\n",
    "\n",
    "### Point 1.2 What's the Proof\n",
    "\n",
    "If we have a CDF then by definition we have $P(X \\leq x)$\n",
    "\n",
    "* $X \\sim F^{-1}(U) \\longrightarrow P(F^{-1}(U) \\leq x)$ [1]\n",
    "* $P(F^{-1}(U) \\leq x) \\longrightarrow \\textrm{via applying F} \\longrightarrow P(U \\leq F(x))$ [2]\n",
    "\n",
    "It's worth noting that [1] = [2]\n",
    "\n",
    "So what's the probability that U is less than F(x)? Well the Uniform is just a line between 0 and 1, F(x) will be a probability on that line (By definition, probs are between 0 and 1)\n",
    "\n",
    "The probability of a uniform(0, 1) having a probability less than F(x) is the length from 0 to F(x). Well, that length is F(x)!\n",
    "\n",
    "$$\\therefore P(F^{-1}(U) \\leq x) = F(x), \\textrm{QED}$$\n",
    "\n",
    "In english, \"If you take a sample of U and then perform the inverse of the CDF on that random assortment, if you then calculate the CDF you will get the CDF of the inverse you used to calculate it.\"\n",
    "\n",
    "## Point 2. Normal Distribution\n",
    "\n",
    "Let's say that we want to discover things about the normal distribution $N(0, 1)$.\n",
    "\n",
    "To get the PDF we need to use an exponential function that decays symmetrically on both sides:\n",
    "\n",
    "$$f(z) = e^{\\frac{-z^2}{2}}$$"
   ]
  },
  {
   "cell_type": "code",
   "execution_count": 7,
   "metadata": {},
   "outputs": [],
   "source": [
    "def unnorm_norm(z):\n",
    "    return np.exp(-(z**2)/2)"
   ]
  },
  {
   "cell_type": "code",
   "execution_count": 8,
   "metadata": {},
   "outputs": [
    {
     "data": {
      "image/png": "[encoded data removed]",
      "text/plain": [
       "<Figure size 432x288 with 1 Axes>"
      ]
     },
     "metadata": {
      "needs_background": "light"
     },
     "output_type": "display_data"
    }
   ],
   "source": [
    "X = np.linspace(-10, 10, 100)\n",
    "y = unnorm_norm(X)\n",
    "\n",
    "plt.plot(X, y)\n",
    "plt.show()"
   ]
  },
  {
   "cell_type": "markdown",
   "metadata": {},
   "source": [
    "Think of the division by 2 as taking some kind of a mean between two values, the z needs to be squared so that -ve values of z become positive. (It's also symmetrical)\n",
    "\n",
    "So, now we have to ask the question, what should the normalising constant be in order to make sure that the integral of this function is 1? Well, we can evalute that using the computer but that won't give us a lot of insight as to what it is.\n",
    "\n",
    "$$\\int_{-\\infty}^\\infty e^{-\\frac{e^2}{2}} dz$$\n",
    "\n",
    "Unfortunately, there is a proof that shows that this unbounded integral is impossible to solve in closed form directly. \n",
    "\n",
    "However, there is still a way to solve it!\n",
    "\n",
    "$$\\int_{-\\infty}^\\infty e^{-\\frac{x^2}{2}} dz\\int_{-\\infty}^\\infty e^{-\\frac{y^2}{2}} dy = \\int_{-\\infty}^\\infty e^{\\frac{-(x^2+y^2)}{2}} dx dy$$\n",
    "\n",
    "You can realise now that $x^2 + y^2$ is actually a circle! So convert to polar coords and to the integral.\n",
    "\n",
    "$$\\int_0^{2\\pi} \\int_0^\\infty e^{\\frac{-r^2}{2}} r dr d\\theta$$\n",
    "\n",
    "Now, we can solve this using integration by parts where $u = \\frac{r^2}{2}$ and $du = rdr$. Thus :\n",
    "\n",
    "$$\\int_0^\\infty e^{-u}du = 1$$\n",
    "\n",
    "$$\\int_0^{2\\pi} 1 d\\theta = 2\\pi$$\n",
    "\n",
    "We did a square in order to get this so we'll just need to square root it to get our normalisation const\n",
    "\n",
    "$$\\therefore c = \\frac{1}{\\sqrt{2\\pi}}$$"
   ]
  },
  {
   "cell_type": "code",
   "execution_count": 9,
   "metadata": {},
   "outputs": [
    {
     "data": {
      "text/plain": [
       "0.3989422804014327"
      ]
     },
     "execution_count": 9,
     "metadata": {},
     "output_type": "execute_result"
    }
   ],
   "source": [
    "1/np.sqrt(2 * np.pi)"
   ]
  },
  {
   "cell_type": "code",
   "execution_count": 10,
   "metadata": {},
   "outputs": [],
   "source": [
    "def std_norm(z):\n",
    "    return 1/np.sqrt(2 * np.pi) * np.exp(-(z**2)/2)"
   ]
  },
  {
   "cell_type": "code",
   "execution_count": 11,
   "metadata": {},
   "outputs": [
    {
     "data": {
      "image/png": "[encoded data removed]",
      "text/plain": [
       "<Figure size 432x288 with 1 Axes>"
      ]
     },
     "metadata": {
      "needs_background": "light"
     },
     "output_type": "display_data"
    }
   ],
   "source": [
    "y2 = std_norm(X)\n",
    "\n",
    "plt.plot(X, y2)\n",
    "plt.title(\"Standard Norm\")\n",
    "plt.show()"
   ]
  },
  {
   "cell_type": "markdown",
   "metadata": {},
   "source": [
    "### Part 2.2 Expectation and Variance of Std. Norm\n",
    "\n",
    "We can get the expectation value from LOTUS:\n",
    "\n",
    "$$E(Z) = \\frac{1}{\\sqrt{2\\pi}} \\int_{-\\infty}^{\\infty} z e^{\\frac{-z^2}{2}} = 0$$\n",
    "\n",
    "The reason this is true is by symmetry:"
   ]
  },
  {
   "cell_type": "code",
   "execution_count": 12,
   "metadata": {},
   "outputs": [],
   "source": [
    "def std_norm_nth_moment(z, n):\n",
    "    return 1/np.sqrt(2 * np.pi)* z**n  * np.exp(-(z**2)/2)"
   ]
  },
  {
   "cell_type": "code",
   "execution_count": 13,
   "metadata": {},
   "outputs": [
    {
     "data": {
      "image/png": "[encoded data removed]",
      "text/plain": [
       "<Figure size 432x288 with 1 Axes>"
      ]
     },
     "metadata": {
      "needs_background": "light"
     },
     "output_type": "display_data"
    }
   ],
   "source": [
    "y3 = std_norm_nth_moment(X, 1)\n",
    "\n",
    "plt.plot(X, y3)\n",
    "plt.title(\"Standard Norm, 1st Moment\")\n",
    "plt.show()"
   ]
  },
  {
   "cell_type": "code",
   "execution_count": 14,
   "metadata": {},
   "outputs": [
    {
     "data": {
      "text/plain": [
       "2.926037769671948e-16"
      ]
     },
     "execution_count": 14,
     "metadata": {},
     "output_type": "execute_result"
    }
   ],
   "source": [
    "y3.sum()"
   ]
  },
  {
   "cell_type": "markdown",
   "metadata": {},
   "source": [
    "We can see that the sum of this is very close to zero, but will never be zero because -you know- computers.\n",
    "\n",
    "Now, what about $\\textrm{Var}(Z)$?\n",
    "\n",
    "$$\\textrm{Var}(Z) = E(Z^2) - E(Z)^2 = E(Z^2)$$"
   ]
  },
  {
   "cell_type": "code",
   "execution_count": 15,
   "metadata": {},
   "outputs": [
    {
     "data": {
      "image/png": "[encoded data removed]",
      "text/plain": [
       "<Figure size 432x288 with 1 Axes>"
      ]
     },
     "metadata": {
      "needs_background": "light"
     },
     "output_type": "display_data"
    }
   ],
   "source": [
    "y4 = std_norm_nth_moment(X, 2)\n",
    "\n",
    "plt.plot(X, y4)\n",
    "plt.title(\"Standard Norm, 2nd Moment\")\n",
    "plt.show()"
   ]
  },
  {
   "cell_type": "code",
   "execution_count": 16,
   "metadata": {},
   "outputs": [
    {
     "data": {
      "text/plain": [
       "1.0000000000000002"
      ]
     },
     "execution_count": 16,
     "metadata": {},
     "output_type": "execute_result"
    }
   ],
   "source": [
    "y4.sum()/y2.sum()"
   ]
  },
  {
   "cell_type": "markdown",
   "metadata": {},
   "source": [
    "Somehow the sums aren't working quite right and I'm not sure why. However, if I normalise it by the sum from the normal distribution then we can see that it is equal to 1."
   ]
  },
  {
   "cell_type": "markdown",
   "metadata": {},
   "source": [
    "We can notice that this is an even function, and so the integral form -inf to inf is equal to 2 times the integral from 0 to inf. Then, you can also do integration by parts:\n",
    "\n",
    "$$\\frac{2}{\\sqrt{2\\pi}} \\int_0^\\infty zze^{\\frac{-z^2}{2}}$$\n",
    "\n",
    "If $u=z$ and $dv = ze^{\\frac{-z^2}{2}}$ then $du = dz$ and $v = -e^{\\frac{-z^2}{2}}$. Thus:\n",
    "\n",
    "$$\\frac{2}{\\sqrt{2\\pi}} ([uv]_0^\\infty + \\int_0^\\infty e^{\\frac{-z^2}{2}} dz) = \\frac{2}{\\sqrt{2\\pi}} + \\frac{\\sqrt{2\\pi}}{2} = 1$$\n",
    "\n",
    "So, now we've shown that the variance of the standard normal distribution is equal to 1 and that the expectation value is 0."
   ]
  },
  {
   "cell_type": "code",
   "execution_count": null,
   "metadata": {},
   "outputs": [],
   "source": []
  }
 ],
 "metadata": {
  "kernelspec": {
   "display_name": "Python 3",
   "language": "python",
   "name": "python3"
  },
  "language_info": {
   "codemirror_mode": {
    "name": "ipython",
    "version": 3
   },
   "file_extension": ".py",
   "mimetype": "text/x-python",
   "name": "python",
   "nbconvert_exporter": "python",
   "pygments_lexer": "ipython3",
   "version": "3.6.8"
  }
 },
 "nbformat": 4,
 "nbformat_minor": 2
}
