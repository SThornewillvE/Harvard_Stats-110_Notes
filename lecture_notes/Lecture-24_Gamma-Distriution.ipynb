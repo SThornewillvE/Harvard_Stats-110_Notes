{
 "cells": [
  {
   "cell_type": "markdown",
   "metadata": {},
   "source": [
    "# Lecture 24: Gamma Distribution\n",
    "\n",
    "## Point 1. The Gamma Function\n",
    "\n",
    "Gamma function is \n",
    "\n",
    "$$\\Gamma(a) = \\int_0^\\infty x^a e^{-x} \\frac{dx}{x}$$\n",
    "\n",
    "if a is an integer then $\\Gamma(a) = (a-1)!$\n",
    "\n",
    "Note as well that $\\Gamma(x+1) = x\\Gamma(x)$, which is kind of obvious if you know what a factorial is.\n",
    "\n",
    "\n",
    "## Point 2. The Gamma Distribution\n",
    "\n",
    "All we need to do is make sure that the Gamma function integrates to one to make it a valid PDF.\n",
    "\n",
    "Once again, we'll just find this for Gamma(a, 1) and then generalise to Gamma(a, $\\lambda$).\n",
    "\n",
    "$$1 = \\int_0^\\infty \\frac{1}{\\Gamma(a)} x^a e^{-x} \\frac{dx}{x}$$\n",
    "\n",
    "Thus if $Y \\sim \\textrm{Gamma}(a, \\lambda)$ and $Y = \\frac{X}{\\lambda}$,\n",
    "\n",
    "We can use a transformation from two classes ago to find the general case. We can express the X above in terms of $Y\\lambda$.\n",
    "\n",
    "$f_Y(y) = \\frac{1}{\\Gamma(a)}(\\lambda y)^a e^{-\\lambda y} \\frac{\\lambda}{\\lambda y} = \\frac{1}{y \\Gamma(a)}(\\lambda y)^a e^{-\\lambda y}$\n",
    "\n",
    "So right now, this is a kind of neat trick. But why is this an important distribution?\n",
    "\n",
    "The Gamma relates to many distributions:\n",
    "\n",
    "1. Exponential\n",
    "2. Poisson\n",
    "3. Normal\n",
    "4. Beta"
   ]
  },
  {
   "cell_type": "markdown",
   "metadata": {},
   "source": [
    "## Point 2. Connection of Gamma with other Poisson Processes\n",
    "\n"
   ]
  },
  {
   "cell_type": "markdown",
   "metadata": {},
   "source": [
    "Consider a poisson process, such as the number of emails to time t. $N_t \\sim \\textrm{Poiss}(\\lambda t)$.\n",
    "\n",
    "This means that the number of arrivals in disjoint intervals are independent.\n",
    "\n",
    "So what's the connection between an exponential and a poisson process?\n",
    "\n",
    "$P(T_1 > t) = P(N_t = 0) = e^{-\\lambda t} \\leftarrow$ Note that this is the exponential form. (i.e. When the arrival of the first mail is after time t)\n",
    "\n",
    "So if interarrival times are iid $Exp(\\lambda)$, then the time of nth arrival is equal to $\\sum_{j=1}^n x_j \\sim \\textrm{Gamma}(n, \\lambda)$\n",
    "\n",
    "This is because the MGF of $X_1 = \\frac{1}{1-t}$, meaning that $T_n = (\\frac{1}{1-t})^n$\n",
    "\n",
    "We just need to find the MGF of the Gamma and then show that its equal to the MGF above.\n",
    "\n",
    "Let $Y \\sim Gamma(n, 1)$ then $E(e^{ty}) = \\frac{1}{\\Gamma(a)} \\int_0^\\infty e^{ty} y^n e^{-y} \\frac{dy}{y}$\n",
    "\n",
    "We can collect the like terms $E(e^{ty}) = \\frac{1}{\\Gamma(a)} \\int_0^\\infty e^{-y(1-t)} y^n \\frac{dy}{y}$\n",
    "\n",
    "Now we can change the variables via transformation, $x = y(1-t)$, $dx = (1-t)dy$\n",
    "\n",
    "$$\\frac{(1-t)^n}{\\Gamma(a)}\\int_0^\\infty x^n e^{-x} \\frac{dx}{x}$$\n",
    "\n",
    "Note that this is back in the form of a gamma distribution, which is equal to the MGF from above."
   ]
  },
  {
   "cell_type": "markdown",
   "metadata": {},
   "source": [
    "## Point 2.2. Find the Mean and Variance of a Gamma distribution\n",
    "\n",
    "$$E(X^c) = \\frac{1}{\\Gamma(a)}\\int_0^\\infty x^c x^a e^{-x} \\frac{dx}{x}$$\n",
    "\n",
    "We can collect the x terms again to return the gamma. \n",
    "\n",
    "Thus the MGF of a Gamma(a, 1) distribution is equal to $\\Gamma(a+c)/\\Gamma(a)$\n",
    "\n",
    "So if c=1 then the mean is a\n",
    "\n",
    "and if c=2 we find that E(X^2) = a^2 +a So the variance is also x\n",
    "\n",
    "Next we just need to multiply by lambda to get the generalised mean and variance, a/lambda and a/lambda^2 respectively."
   ]
  },
  {
   "cell_type": "code",
   "execution_count": null,
   "metadata": {},
   "outputs": [],
   "source": []
  }
 ],
 "metadata": {
  "kernelspec": {
   "display_name": "Python 3",
   "language": "python",
   "name": "python3"
  },
  "language_info": {
   "codemirror_mode": {
    "name": "ipython",
    "version": 3
   },
   "file_extension": ".py",
   "mimetype": "text/x-python",
   "name": "python",
   "nbconvert_exporter": "python",
   "pygments_lexer": "ipython3",
   "version": "3.6.8"
  }
 },
 "nbformat": 4,
 "nbformat_minor": 2
}
