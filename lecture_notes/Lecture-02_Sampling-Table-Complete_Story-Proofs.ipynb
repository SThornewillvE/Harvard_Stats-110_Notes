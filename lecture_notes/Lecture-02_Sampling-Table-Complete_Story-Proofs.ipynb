{
 "cells": [
  {
   "cell_type": "markdown",
   "metadata": {},
   "source": [
    "# Lecture 2: Story Proofs, Axioms of Prob."
   ]
  },
  {
   "cell_type": "code",
   "execution_count": 1,
   "metadata": {},
   "outputs": [],
   "source": [
    "import numpy as np\n",
    "from math import factorial"
   ]
  },
  {
   "cell_type": "code",
   "execution_count": 2,
   "metadata": {},
   "outputs": [],
   "source": [
    "def nCr(n, r):\n",
    "    return factorial(n)/(factorial(n-r)*factorial(r))"
   ]
  },
  {
   "cell_type": "markdown",
   "metadata": {},
   "source": [
    "## Part 1. Recap of sampling table\n",
    "\n",
    "When considering how to enumerate things, we need to consider two things:\n",
    "\n",
    "1. Whether there is replacement of objects\n",
    "2. Whether groupings of the same number of objects in different order results in a unique count\n",
    "\n",
    "We can summarise what we know so far into a table:\n",
    "\n",
    "|row number|replacement|order matters|equation|\n",
    "|---|---|---|---|\n",
    "|1|True|True|$n^k$|\n",
    "|2|True|False|?|\n",
    "|3|False|True|$\\frac{n!}{(n-r)!}$ or $nPr$\n",
    "|4|False|False|$\\frac{n!}{(n-r)!r!}$ or $nCr$ or $n \\choose r$|\n",
    "\n",
    "In the case that we have a list of things, we want to ask \"how many different combinations can I get\""
   ]
  },
  {
   "cell_type": "code",
   "execution_count": 3,
   "metadata": {},
   "outputs": [
    {
     "data": {
      "text/plain": [
       "['r', 'b', 'b', 'g', 'r', 'g', 'b']"
      ]
     },
     "execution_count": 3,
     "metadata": {},
     "output_type": "execute_result"
    }
   ],
   "source": [
    "list_of_things = ['r', 'b', 'b', 'g', 'r', 'g', 'b']\n",
    "\n",
    "list_of_things"
   ]
  },
  {
   "cell_type": "markdown",
   "metadata": {},
   "source": [
    "With our list of things, if we were to choose from it at random, how many different enumerations would we get?\n",
    "\n",
    "To decide that, we have to decide a couple of questions:\n",
    "\n",
    "1. If we pick an element, can we pick it again?\n",
    "2. Do we consider different orderings to be the same?\n",
    "\n",
    "If we have replacement and orderings are unique then we can reason this through:\n",
    "* We have r positions that need to be filled from n objects\n",
    "* If you choose an object to fill the 1st position, you can pick it again (replacement)\n",
    "* You can again choose from n objects, k times\n",
    "* $\\therefore n^r$ "
   ]
  },
  {
   "cell_type": "code",
   "execution_count": 4,
   "metadata": {},
   "outputs": [
    {
     "data": {
      "text/plain": [
       "343"
      ]
     },
     "execution_count": 4,
     "metadata": {},
     "output_type": "execute_result"
    }
   ],
   "source": [
    "# Get n and r\n",
    "n = len(list_of_things)\n",
    "r = 3  # Arbitrary example\n",
    "\n",
    "num_enum = n**r\n",
    "\n",
    "num_enum"
   ]
  },
  {
   "cell_type": "markdown",
   "metadata": {},
   "source": [
    "If no replacement (i.e. if we pick then we cant choose the same one again) but different groupings of the same objects don't count as distinct items then we have to consider:\n",
    "* We have k positions to be filled\n",
    "* Each time we choose something for that position then we have 1 less to choose from n\n",
    "* So we have $n!$ combos, but this is if we run to exhaustion, we need to stop earlier and divide by $(n-r)!$\n",
    "* $\\therefore nPr = \\frac{n!}{(n-r)!}$"
   ]
  },
  {
   "cell_type": "code",
   "execution_count": 5,
   "metadata": {},
   "outputs": [
    {
     "data": {
      "text/plain": [
       "210.0"
      ]
     },
     "execution_count": 5,
     "metadata": {},
     "output_type": "execute_result"
    }
   ],
   "source": [
    "num_enum = factorial(n)/factorial(n-r)\n",
    "\n",
    "num_enum"
   ]
  },
  {
   "cell_type": "markdown",
   "metadata": {},
   "source": [
    "Notice how we have fewer enumerations, this is because we've removed replacement.\n",
    "\n",
    "If we have no replacement and the order does matter then we have to group by the number of orderings from k choices:\n",
    "* We divide by $r!$ to get the number of groups\n",
    "* $\\therefore nCr = nPr \\frac{1}{r!} = \\frac{n!}{(n-r)!r!}$"
   ]
  },
  {
   "cell_type": "code",
   "execution_count": 6,
   "metadata": {},
   "outputs": [
    {
     "data": {
      "text/plain": [
       "35.0"
      ]
     },
     "execution_count": 6,
     "metadata": {},
     "output_type": "execute_result"
    }
   ],
   "source": [
    "num_enum = nCr(n, r)\n",
    "\n",
    "num_enum"
   ]
  },
  {
   "cell_type": "markdown",
   "metadata": {},
   "source": [
    "Now the groupings are getting really low."
   ]
  },
  {
   "cell_type": "markdown",
   "metadata": {},
   "source": [
    "## Part 2. Sampling space, replacement, grouping doesnt matter\n",
    "\n",
    "So, with that. What should be use as the equation in the 3rd row?\n",
    "\n",
    "The answer is ${r+n-1} \\choose r$.\n",
    "\n",
    "Why is this?"
   ]
  },
  {
   "cell_type": "code",
   "execution_count": 7,
   "metadata": {},
   "outputs": [],
   "source": [
    "def enum_order_matters_no_replacement(n, r):\n",
    "    \n",
    "    n_new = n + r - 1\n",
    "    \n",
    "    return nCr(n_new, r)"
   ]
  },
  {
   "cell_type": "markdown",
   "metadata": {},
   "source": [
    "* What we are doing is still choosing r things from n items.\n",
    "* Whenever we choose something, we put it back. We also don't care about order \n",
    "* This means that we can $n$ buckets `[], [], ..., []`, if `n=2` then buckets look like `[], []`\n",
    "* We can start selecting each box, each box that I pick gets a point inside of it. This means that `[...], [....]` represents picking box 1 there times and box 2 four times.\n",
    "* We can now consider this as having borders instead of boxes separating them\n",
    "* `[...], [....]` $\\rightarrow$ `...|....`\n",
    "* This means that we have `n + r - 1` objects that we can choose from, with $r$ dots and $n-1$ separators.\n",
    "* Thus we have `_, _, _, _, _, _, _, _`, we choose where r dots go and the remining slots get filled with the separators.\n",
    "\n",
    "$$\\therefore{ {r+n-1} \\choose k},QED$$"
   ]
  },
  {
   "cell_type": "markdown",
   "metadata": {},
   "source": [
    "## Story Proofs\n",
    "\n",
    "What we did above is a kind of story proof. Instead of trying to use the most abstracted mathematics in order to prove things, we use logic instead to prove things.\n",
    "\n",
    "We can consider this for different hings such as \"vandermonde's identity\":\n",
    "\n",
    "$${{n+m} \\choose k} = \\sum_{j=0}^{k}{m \\choose j}{n \\choose {k-j}}$$"
   ]
  },
  {
   "cell_type": "code",
   "execution_count": 8,
   "metadata": {},
   "outputs": [],
   "source": [
    "def vandermonde(m, n, k):\n",
    "    \n",
    "    vander_sum = 0\n",
    "    \n",
    "    for i in range(k):\n",
    "        vander_sum += nCr(m, i) * nCr(n, (k-i))\n",
    "        \n",
    "    return vander_sum"
   ]
  },
  {
   "cell_type": "code",
   "execution_count": 9,
   "metadata": {},
   "outputs": [],
   "source": [
    "assert nCr(5, 3) == vandermonde(2, 3, 3)"
   ]
  },
  {
   "cell_type": "markdown",
   "metadata": {},
   "source": [
    "Once again, proving this by hand would be very difficult. But we can use logic to figure this out.\n",
    "\n",
    "* In the example above, we have 5 items and we choose 3 from it\n",
    "* We can split this 5 into two values that add together, i.e. `2` and `3`, we are still picking k things from it\n",
    "* Think of this like having 5 birds in the air and there are only k branches\n",
    "* We can split these birds into two kinds for our  `n` and `m`\n",
    "* If we choose one from our `m` birds, then there are `k-1` left to be chosen for the other\n",
    "\n",
    "$\\therefore$We can then sum it up for each number of choices and we get vandermonde's identity, $QED$\n",
    "\n",
    "Vandermonde's identity looks kind of confusing at first, but now that I think about it, this is the way how I like to think about \"choice\". When deriving it the first time, I had a hard time thinking about it in terms of having to fill k slots from n objects and then accounting for what you didn't draw and groupings and all of that. (Although, it is still kind of there in the definition.)"
   ]
  },
  {
   "cell_type": "code",
   "execution_count": null,
   "metadata": {},
   "outputs": [],
   "source": []
  }
 ],
 "metadata": {
  "kernelspec": {
   "display_name": "Python 3",
   "language": "python",
   "name": "python3"
  },
  "language_info": {
   "codemirror_mode": {
    "name": "ipython",
    "version": 3
   },
   "file_extension": ".py",
   "mimetype": "text/x-python",
   "name": "python",
   "nbconvert_exporter": "python",
   "pygments_lexer": "ipython3",
   "version": "3.6.8"
  }
 },
 "nbformat": 4,
 "nbformat_minor": 2
}
