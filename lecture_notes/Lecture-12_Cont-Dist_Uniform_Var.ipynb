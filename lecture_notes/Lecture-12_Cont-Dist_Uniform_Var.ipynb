{
 "cells": [
  {
   "cell_type": "markdown",
   "metadata": {},
   "source": [
    "# Lecture 12: Continuous Distributions, Uniform Distribution"
   ]
  },
  {
   "cell_type": "code",
   "execution_count": 1,
   "metadata": {},
   "outputs": [],
   "source": [
    "import numpy as np\n",
    "import matplotlib.pyplot as plt"
   ]
  },
  {
   "cell_type": "markdown",
   "metadata": {},
   "source": [
    "## Part 1. Continuous distributions\n",
    "\n",
    "Discrete distributions have been covered for this course. Now, onto continuous distributions.\n",
    "\n",
    "There are two big differences when it comes to these kinds of distributions:\n",
    "\n",
    "1. $P(X = x) = 0$, since in a continuous distribution each \"slice\" is vanishingly small, the probability to draw any single value is 0. This means that you should integrate (cont. sum) over an area instead.\n",
    "2. The `density` instead of the `mass` is plotted. This means that on the y-axis, the values may actually be higher than 1. Becuase it is showing how much \"probability\" is concentrated relative to other parts of the distribution.\n",
    "\n",
    "This means that we want to integrate things of the form:\n",
    "\n",
    "$$P(a \\leq X \\leq b) = \\int_a^b f(x) dx = F(b) - F(a)$$\n",
    "\n",
    "Note that in order to convert between a PDF and CDF, all you need to do is either ingegrate or differentiate. (Makes sense via the `Fundamental Theorem of Calculus`.)\n",
    "\n",
    "Obviously, the expectation value takes a similar form as with the discrete case:\n",
    "\n",
    "$$E(X) = \\int_{-\\infty}^\\infty x f(x) dx$$"
   ]
  },
  {
   "cell_type": "markdown",
   "metadata": {},
   "source": [
    "## Part 2. Uniform Distribution\n",
    "\n",
    "Uniform distribution is not defined as \"all points having equal probability\", because each point has a probability of 0 of occuring. (Also, this doesn't say what this value should be.)\n",
    "\n",
    "Instead, $f(x) = c$ between points a and b. If this is true and all points should integrate to one then we can think of it as a rectangle whose area is always equal to 1\n",
    "\n",
    "$$w \\times l = 1$$\n",
    "\n",
    "if $w = b-a$, $l = c$, then:\n",
    "\n",
    "$$\\therefore c = \\frac{1}{b-a}$$\n",
    "\n",
    "### Part 2.2 Expectation of Uniform\n",
    "\n",
    "So given all of this, what is the expectation value for the uniform distribution?\n",
    "\n",
    "$$E(x) = \\int_a^b \\frac{x}{b-a}dx = \\frac{a+b}{2}$$\n",
    "\n",
    "This makes sense, we expect the average to be equal to the midpoint between a and b."
   ]
  },
  {
   "cell_type": "code",
   "execution_count": 2,
   "metadata": {},
   "outputs": [],
   "source": [
    "def uniform(a, b):\n",
    "    return 1/(b-a)"
   ]
  },
  {
   "cell_type": "code",
   "execution_count": 3,
   "metadata": {},
   "outputs": [
    {
     "data": {
      "image/png": "[encoded data removed]",
      "text/plain": [
       "<Figure size 432x288 with 1 Axes>"
      ]
     },
     "metadata": {
      "needs_background": "light"
     },
     "output_type": "display_data"
    }
   ],
   "source": [
    "# Quick plot for fun\n",
    "a = 0\n",
    "b = 1\n",
    "\n",
    "x = np.linspace(0-0.5, 1.5, 200)\n",
    "f_x = [uniform(a, b) if i >= 0 and i <= 1 else 0 for i in x]\n",
    "\n",
    "plt.plot(x, f_x)\n",
    "plt.show()"
   ]
  },
  {
   "cell_type": "markdown",
   "metadata": {},
   "source": [
    "## Part 3. Variance\n",
    "\n",
    "Now that we know the mean, what about the variance? The variance is defined as following:\n",
    "\n",
    "$$var(x) = E(x-E(x))^2$$\n",
    "\n",
    "We can expand this to \n",
    "\n",
    "$$var(x) = E(x^2 - 2xE(x) + E(x)^2$$\n",
    "\n",
    "$$var(x) = E(x^2) - 2E(x)E(x) + E(x)^2$$\n",
    "\n",
    "And somehow this becomes\n",
    "\n",
    "$$var(x) = E(x^2) - E(x)^2$$\n",
    "\n",
    "How we calculate `E(x^2)` might seem a little weird at first but we can do this using LOTUS (Law of an Unconscious Statistician)\n",
    "\n",
    "$$E(g(x)) = \\int_{-\\infty}^{\\infty} g(x)f(x) dx, g(x) = x^2$$\n",
    "\n",
    "### Part 3.2 Variance of Uniform(0, 1)\n",
    "\n",
    "So say we have unifform \n",
    "\n",
    "$$E(x) = \\frac{1}{2}, E(x^2) = \\int_0^1 x^2 f(x) dx$$\n",
    "\n",
    "Since `f(x) = 1`, $E(x^2) = 1/3$\n",
    "\n",
    "$$\\therefore var(x) = \\frac{1}{3} - (\\frac{1}{2})^2 = \\frac{1}{12}$$"
   ]
  },
  {
   "cell_type": "code",
   "execution_count": null,
   "metadata": {},
   "outputs": [],
   "source": []
  }
 ],
 "metadata": {
  "kernelspec": {
   "display_name": "Python 3",
   "language": "python",
   "name": "python3"
  },
  "language_info": {
   "codemirror_mode": {
    "name": "ipython",
    "version": 3
   },
   "file_extension": ".py",
   "mimetype": "text/x-python",
   "name": "python",
   "nbconvert_exporter": "python",
   "pygments_lexer": "ipython3",
   "version": "3.6.8"
  }
 },
 "nbformat": 4,
 "nbformat_minor": 2
}
