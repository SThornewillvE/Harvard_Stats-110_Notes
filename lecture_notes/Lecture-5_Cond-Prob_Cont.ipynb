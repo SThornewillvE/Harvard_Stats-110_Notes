{
 "cells": [
  {
   "cell_type": "markdown",
   "metadata": {},
   "source": [
    "# Lecture 5: Conditional Probability Continued"
   ]
  },
  {
   "cell_type": "markdown",
   "metadata": {},
   "source": [
    "## Part 1. Biohazards of Conditional Probability\n",
    "\n",
    "When doing conditional probability it can be easy to get terms confused. Here are some common pitfalls:\n",
    "\n",
    "### 1. Confusing $P(A|B)$ with $P(B|A)$\n",
    "\n",
    "If we think of A being the effect and B being the cause, this would mean that the probability of a cause given an effect is equal to the probability of the effect given a cause. \n",
    "\n",
    "I think the easiest way to prove this is via logic:\n",
    "\n",
    "1. If $A \\rightarrow B$\n",
    "2. B\n",
    "3. Not necessarily A\n",
    "4. Q.E.D\n",
    "\n",
    "This is also related to...\n",
    "\n",
    "### 2. Confusing posteriors ($P(A|B)$) with priors ($P(A)$)\n",
    "\n",
    "This is because the marginal likelihood doesn't depend on B, so it is not necessarily the same.\n",
    "\n",
    "### 3. Assuming independence between events\n",
    "\n",
    "You *can* do this and create what is called \"Naive Bayes\", but not all probabilities are independent and if you make this assumption it should be explicit.\n",
    "\n",
    "### 4. Confusing independence and conditional independence.\n",
    "\n",
    "Once again, independence means that two events provide no useful information for the other.\n",
    "\n",
    "However, upon adding a condition, two events might start providing information. \n",
    "\n",
    "One thing to note is that independence with/without a condition does not provide information about another.\n",
    "\n",
    "This means that we can consider two events, and depending on what conditions these events are based on they can start to have information. It depends on context."
   ]
  },
  {
   "cell_type": "code",
   "execution_count": null,
   "metadata": {},
   "outputs": [],
   "source": []
  }
 ],
 "metadata": {
  "kernelspec": {
   "display_name": "Python 3",
   "language": "python",
   "name": "python3"
  },
  "language_info": {
   "codemirror_mode": {
    "name": "ipython",
    "version": 3
   },
   "file_extension": ".py",
   "mimetype": "text/x-python",
   "name": "python",
   "nbconvert_exporter": "python",
   "pygments_lexer": "ipython3",
   "version": "3.6.8"
  }
 },
 "nbformat": 4,
 "nbformat_minor": 2
}
