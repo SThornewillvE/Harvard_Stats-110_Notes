{
 "cells": [
  {
   "cell_type": "markdown",
   "metadata": {},
   "source": [
    "# Lecture 16: Exponential Distributions"
   ]
  },
  {
   "cell_type": "code",
   "execution_count": 1,
   "metadata": {},
   "outputs": [],
   "source": [
    "import numpy as np\n",
    "\n",
    "from sympy import *"
   ]
  },
  {
   "cell_type": "markdown",
   "metadata": {},
   "source": [
    "## Point 1. Exponential Distributions\n",
    "\n",
    "Let $X \\sim Exp(\\lambda)$\n",
    "\n",
    "The PDF of X is $f(x) = \\lambda e^{-\\lambda x}$\n",
    "\n",
    "Is this a valid integral? Let's find out"
   ]
  },
  {
   "cell_type": "code",
   "execution_count": 2,
   "metadata": {},
   "outputs": [
    {
     "data": {
      "text/latex": [
       "$\\displaystyle 1.0$"
      ],
      "text/plain": [
       "1.00000000000000"
      ]
     },
     "execution_count": 2,
     "metadata": {},
     "output_type": "execute_result"
    }
   ],
   "source": [
    "t = Symbol('t')\n",
    "lmbda = 1.5\n",
    "\n",
    "integrate((1.5 * exp(-1.5 * t)), (t, 0, oo))"
   ]
  },
  {
   "cell_type": "markdown",
   "metadata": {},
   "source": [
    "We can see that this integrates to one.\n",
    "\n",
    "Next, we want to see what the CDF is, where $P(X \\leq x) = \\int_0^{\\infty} \\lambda e^{-\\lambda x} dx$\n",
    "\n",
    "$\\therefore CDF(X) = 1 - e^{-\\lambda x}$\n",
    "\n",
    "What about mean and mean and variance?\n",
    "\n",
    "Well, we'll simply consider the case where $Y \\sim \\textrm{Exp}(1)$ and then let $Y = \\lambda X$ to generalise it.\n",
    "\n",
    "Since the CDF = $P(Y \\leq y) = P(Y \\leq \\frac{y}{\\lambda}) = 1 - e^{-y}$\n",
    "\n",
    "What's then the mean and variance of this?\n",
    "\n",
    "$E(Y) = \\int_0^{\\infty} y e^{-y} = 1$ via integration by parts.\n",
    "\n",
    "Then $Var(Y) = Var(Y^2) - Var(Y)^2 = \\int_0^\\infty y^2 e^{-y} dy - 1$"
   ]
  },
  {
   "cell_type": "code",
   "execution_count": 3,
   "metadata": {},
   "outputs": [
    {
     "data": {
      "text/latex": [
       "$\\displaystyle 1$"
      ],
      "text/plain": [
       "1"
      ]
     },
     "execution_count": 3,
     "metadata": {},
     "output_type": "execute_result"
    }
   ],
   "source": [
    "t = Symbol('t')\n",
    "\n",
    "integrate((t**2 * exp(-t)), (t, 0, oo)) - 1"
   ]
  },
  {
   "cell_type": "markdown",
   "metadata": {},
   "source": [
    "Thus the variance is equal to 1.\n",
    "\n",
    "Now, consider $X = \\frac{Y}{\\lambda}$ then $E(X) = \\frac{1}{\\lambda}$ and $Var(X) = \\frac{1}{\\lambda^2}$"
   ]
  },
  {
   "cell_type": "markdown",
   "metadata": {},
   "source": [
    "## Point 2. The Memoryless Property\n",
    "\n",
    "The memoryless property stats that the current lifetime of the time between events says nothing for how likely the probability of something will take place.\n",
    "\n",
    "As an example, if we have a cohort of phones whose lifetimes are perfectly exponentially distributed and whose expectation value is 4. If we have a phone that is 2 years old, what is the expected lifetime for this phone?\n",
    "\n",
    "The theorem is $P(X \\leq s+t | X \\geq s) = P(X \\geq t)$, Note that is is not $P(X \\geq t + s)$. \n",
    "\n",
    "Given $P(X \\geq s) = 1 - P(X \\leq s) = e^{-\\lambda s}$ then :\n",
    "\n",
    "$$P(X \\geq s + t | X \\geq s) = \\frac{P(X \\geq s + t, X \\geq s)}{P(X \\geq s)}$$\n",
    "\n",
    "If $s + t \\geq s$ then $P(X \\geq s) = 1$ and we can simplify the above as such, which means:\n",
    "\n",
    "$$P(X \\geq s + t | X \\geq s) = \\frac{e^{-\\lambda(s+t)}}{e^{-\\lambda s}} = e^{-\\lambda t} = P(X \\geq t)$$"
   ]
  },
  {
   "cell_type": "code",
   "execution_count": null,
   "metadata": {},
   "outputs": [],
   "source": []
  }
 ],
 "metadata": {
  "kernelspec": {
   "display_name": "Python 3",
   "language": "python",
   "name": "python3"
  },
  "language_info": {
   "codemirror_mode": {
    "name": "ipython",
    "version": 3
   },
   "file_extension": ".py",
   "mimetype": "text/x-python",
   "name": "python",
   "nbconvert_exporter": "python",
   "pygments_lexer": "ipython3",
   "version": "3.6.8"
  }
 },
 "nbformat": 4,
 "nbformat_minor": 2
}
