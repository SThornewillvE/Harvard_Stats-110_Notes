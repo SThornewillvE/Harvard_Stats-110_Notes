{
 "cells": [
  {
   "cell_type": "markdown",
   "metadata": {},
   "source": [
    "# Lecture 23: Beta Distribution"
   ]
  },
  {
   "cell_type": "markdown",
   "metadata": {},
   "source": [
    "## Point 1. Beta Distribution\n",
    "\n",
    "The Beta distribution is a generalisation of the Uniform distribution. It's very flexible which makes it very useful in modeling probabilities.\n",
    "\n",
    "PDF: $f(x) = c x^{a-1}(1-x)^{b-1}, 0<x<1$\n",
    "\n",
    "We'll derive what the normalisation constant c is in another lecture. (I know that it's some combination of gamma functions which won't be covered until next lecture.)\n",
    "\n",
    "Note that the beta distribution is a conjugate prior, meaning that if we use it as a prior in bayes rule we can often get the same sort of distribution back, which makes it useful for updating beliefs quickly and easily.\n",
    "\n",
    "(For more information about bayesian updates, see my talk that I have at the [Hamburg Data Science Meetup](https://github.com/SThornewillvE/Hamburg_DS_Meetup_Bayesian-Stats_Intro).)"
   ]
  },
  {
   "cell_type": "markdown",
   "metadata": {},
   "source": [
    "## Point 1.2 Finding the integral of a beta\n",
    "\n",
    "Find $\\int_0^1 n^k(1-x)^{n-k} dx$, without calculus!\n",
    "\n",
    "This can be done using Bayes's Billiards.\n",
    "\n",
    "Let n+1 be the number of billiard balls, n white ones and 1 pink one.\n",
    "\n",
    "We can throw them on a line between 0, 1 uniformly. (iid $\\textrm{Uniform}(0, 1)$)\n",
    "\n",
    "This is the equivalent of throwing all balls and then choosing one at random to be the pink one.\n",
    "\n",
    "Let X be a rv that represents the number of balls to the left of the pink ball.\n",
    "\n",
    "Then, $P(X=k) = \\int_0^1 P(X=k |p)P(p)dp$\n",
    "\n",
    "Since $P(p) = 1$ and $P(X=k |p) \\sim \\textrm{Binom}(n, p)$\n",
    "\n",
    "This means that  $P(X=k) = \\int_0^1 {n \\choose k} p^k (1-p)^{n-k} dp = \\frac{1}{n+1}$\n",
    "\n",
    "i.e. The number of balls that are to the left of the ball is uniformly distributed by the number of balls+1. "
   ]
  }
 ],
 "metadata": {
  "kernelspec": {
   "display_name": "Python 3",
   "language": "python",
   "name": "python3"
  },
  "language_info": {
   "codemirror_mode": {
    "name": "ipython",
    "version": 3
   },
   "file_extension": ".py",
   "mimetype": "text/x-python",
   "name": "python",
   "nbconvert_exporter": "python",
   "pygments_lexer": "ipython3",
   "version": "3.6.8"
  }
 },
 "nbformat": 4,
 "nbformat_minor": 2
}
