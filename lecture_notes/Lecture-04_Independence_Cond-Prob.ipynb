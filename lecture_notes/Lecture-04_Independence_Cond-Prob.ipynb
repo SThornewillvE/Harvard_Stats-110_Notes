{
 "cells": [
  {
   "cell_type": "markdown",
   "metadata": {},
   "source": [
    "# Lecture 4: Independence and Conditional Probability."
   ]
  },
  {
   "cell_type": "code",
   "execution_count": 1,
   "metadata": {},
   "outputs": [],
   "source": [
    "import numpy as np\n",
    "from math import factorial"
   ]
  },
  {
   "cell_type": "markdown",
   "metadata": {},
   "source": [
    "## Part 1. Independence\n",
    "\n",
    "Events being `independent` means that knowing something about one gives no information about the other. \n",
    "\n",
    "$$P(A \\cap B) = P(A)P(B)$$\n",
    "\n",
    "We can think of this as being successive coin flips. The two events are independent of each other and knowing one coin gets heads gives us no information about the next coin getting heads.\n",
    "\n",
    "The opposite case would be considering the probability of having a cough and having the flu. Having one makes the other more likely, so they are not independent events.\n",
    "\n",
    "We can increase the number to three events A, B, C. They will be independent when:\n",
    "\n",
    "* P(A, B) = P(A)P(B)\n",
    "* P(A, C) = P(A)P(C)\n",
    "* P(B, C) = P(B)P(C)\n",
    "* P(A, B, C) = P(A)P(B)P(C)\n",
    "\n",
    "... And so on for K events."
   ]
  },
  {
   "cell_type": "code",
   "execution_count": 2,
   "metadata": {},
   "outputs": [],
   "source": [
    "coin_1 = np.random.choice(a=[0, 1], size=2_000)\n",
    "coin_2 = np.random.choice(a=[0, 1], size=2_000)"
   ]
  },
  {
   "cell_type": "code",
   "execution_count": 3,
   "metadata": {},
   "outputs": [
    {
     "data": {
      "text/plain": [
       "0.242271"
      ]
     },
     "execution_count": 3,
     "metadata": {},
     "output_type": "execute_result"
    }
   ],
   "source": [
    "p_coin1_coin2 = coin_1.mean() * coin_2.mean()\n",
    "\n",
    "p_coin1_coin2"
   ]
  },
  {
   "cell_type": "markdown",
   "metadata": {},
   "source": [
    "The above makes sense, if the probability of heads for both coins is `0.5` then the probability that both are heads are equal to `0.25`.\n",
    "\n",
    "Note that this does not mean that A and B are disjoint, which is only possible $\\neg A \\rightarrow B$, which means that information about A gives information about B. (i.e. The two don't overlap.)\n",
    "\n",
    "\n",
    "## Part 2. Conditional Probability\n",
    "\n",
    "How should you update your beliefs as you get new information?\n",
    "\n",
    "Conditional probability, the probability of an event happening considering only the cases where an event has happened first:\n",
    "\n",
    "$$P(A | B) = \\frac{P(A \\cap B)}{P(B)}$$\n",
    "\n",
    "From this, we can derive bayes rule\n",
    "\n",
    "$$P(A \\cap B) = P(B \\cap A)$$\n",
    "\n",
    "$$\\therefore P(A | B) = \\frac{P(B | A)P(A)}{P(B)} $$\n",
    "\n",
    "We can also derive:\n",
    "\n",
    "$$P(A_1, ..., A_n) = P(A_1) \\times P(A_2 | A_1) \\times P(A_3 | A_2, A_1) \\times ... \\times P(A_n | A_1 ... A_{n-1})$$\n",
    "\n",
    "The above derivation is called `The Law of Total Probability`."
   ]
  },
  {
   "cell_type": "code",
   "execution_count": null,
   "metadata": {},
   "outputs": [],
   "source": [
    "\n"
   ]
  }
 ],
 "metadata": {
  "kernelspec": {
   "display_name": "Python 3",
   "language": "python",
   "name": "python3"
  },
  "language_info": {
   "codemirror_mode": {
    "name": "ipython",
    "version": 3
   },
   "file_extension": ".py",
   "mimetype": "text/x-python",
   "name": "python",
   "nbconvert_exporter": "python",
   "pygments_lexer": "ipython3",
   "version": "3.6.8"
  }
 },
 "nbformat": 4,
 "nbformat_minor": 2
}
