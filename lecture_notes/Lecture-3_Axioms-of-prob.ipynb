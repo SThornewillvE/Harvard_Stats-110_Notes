{
 "cells": [
  {
   "cell_type": "markdown",
   "metadata": {},
   "source": [
    "# Lecture 3: Axioms of Prob."
   ]
  },
  {
   "cell_type": "code",
   "execution_count": 1,
   "metadata": {},
   "outputs": [],
   "source": [
    "import numpy as np\n",
    "from math import factorial"
   ]
  },
  {
   "cell_type": "markdown",
   "metadata": {},
   "source": [
    "## Part 1. Axioms of Probability"
   ]
  },
  {
   "cell_type": "markdown",
   "metadata": {},
   "source": [
    "When doing probability there are three axioms:\n",
    "    \n",
    "1. $p(\\varnothing) = 0$, i.e. The probability of the set of nothing happening is 0\n",
    "\n",
    "2. $p(S) = 1$, i.e. The probability of an entire space is 1\n",
    "\n",
    "3. $P(\\bigcup_{n=1}^{\\infty} A_n) = \\sum_{n=1}^{\\infty} P(A_n)$, i.e. The probability of combined space that we are interested in out of the whole space is equal to the probability of each individual space added together\n",
    "\n",
    "I think that each of these points are more or less self-evident, that's why they are axioms.\n",
    "\n",
    "Except that we could also say that the probability of $\\varnothing$ is also 1, so it's good to choose which way we want to define it."
   ]
  },
  {
   "cell_type": "code",
   "execution_count": 2,
   "metadata": {},
   "outputs": [
    {
     "data": {
      "text/plain": [
       "1.0"
      ]
     },
     "execution_count": 2,
     "metadata": {},
     "output_type": "execute_result"
    }
   ],
   "source": [
    "# Example\n",
    "P_a = 0.2\n",
    "P_b = 0.4\n",
    "P_ab = 0.1\n",
    "P_else = 1 - P_a - P_b + P_ab\n",
    "\n",
    "set_of_things = np.array([P_a, P_b, P_ab, P_else])\n",
    "\n",
    "P_a + P_b - P_ab + P_else"
   ]
  },
  {
   "cell_type": "markdown",
   "metadata": {},
   "source": [
    "Note that in the above example, $P(A \\cup B) = P(A) + P(B) - P(A \\cap B)$.\n",
    "\n",
    "We minus the intersection between A and B because we double count it if we sum $P(A)$ and $P(B)$ together.\n",
    "\n",
    "As the number of things intersecting in the unions increases, intersections need to be accounted for accordingly. (This is called Inclusion, Exclusion)"
   ]
  },
  {
   "cell_type": "markdown",
   "metadata": {},
   "source": [
    "## Part 2. De Montmort's Problem\n",
    "\n",
    "Problem:\n",
    "\n",
    "1. Shuffled deck of n cards (numbered 1, ..., n)\n",
    "2. Reveal the top card 1 at a time\n",
    "3. Win if ith card is equal to i\n",
    "\n",
    "If $A_i$ = event of ith card being the same as the ith draw, the total probabilitty will be $P(\\bigcup_{n=1}^{\\infty} A_n) = \\sum_{n=1}^{\\infty} P(A_n)$ from axiom 3\n",
    "\n",
    "* Draw ith card, $P(A_i) = \\frac{1}{n}$\n",
    "* P of two draws being event $A_i$, $P(A_1 \\cap A_2) = \\frac{(n-2)!}{n!}$ $\\leftarrow$ Because there are $(n-2)!$ possible hand configs out of $n!$\n",
    "    * Note that this is equal to  $\\frac{1}{n(n-1)}$\n",
    "* P of k draws being event $A_i$, $P(A_1 \\cap A_2 ... \\cap A_k) = \\frac{(n-k)!}{n!}$\n",
    "\n",
    "Thus,\n",
    "\n",
    "* Apply inclusion exclusion\n",
    "* First, we want to add the first term, the probability of getting only 1 event when drawing the whole deck = $n\\frac{1}{n}$\n",
    "* The probability of drawing 2 events from the whole deck. How many intersections? $nC2$ multiplied by the probability $\\frac{1}{n(n-1)}$. We need to minus by this.\n",
    "* The prob os drawing 3 events from deck. Intersections is $nC3 * \\frac{1}{n(n-1)(n-2)}$\n",
    "\n",
    "$$\\therefore P(A_1 \\cap A_2 ... \\cap A_k) = 1 - \\frac{1}{2!} + \\frac{1}{3!} - \\frac{1}{4!} + ... + (-1)\\frac{1}{n!} = 1- \\frac{1}{e}$$"
   ]
  },
  {
   "cell_type": "code",
   "execution_count": 3,
   "metadata": {},
   "outputs": [
    {
     "data": {
      "text/plain": [
       "[1.0, -0.5, 0.16666666666666666, -0.041666666666666664, 0.008333333333333333]"
      ]
     },
     "execution_count": 3,
     "metadata": {},
     "output_type": "execute_result"
    }
   ],
   "source": [
    "n = 10_000\n",
    "\n",
    "probs = [1/factorial(i) if i%2 == 1 else -1/factorial(i) for i in range(1, n)]\n",
    "\n",
    "probs[:5]"
   ]
  },
  {
   "cell_type": "code",
   "execution_count": 4,
   "metadata": {},
   "outputs": [
    {
     "data": {
      "text/plain": [
       "0.6321205588285578"
      ]
     },
     "execution_count": 4,
     "metadata": {},
     "output_type": "execute_result"
    }
   ],
   "source": [
    "probs = np.array(probs)\n",
    "\n",
    "probs.sum()"
   ]
  },
  {
   "cell_type": "code",
   "execution_count": 5,
   "metadata": {},
   "outputs": [
    {
     "data": {
      "text/plain": [
       "0.6321205588285577"
      ]
     },
     "execution_count": 5,
     "metadata": {},
     "output_type": "execute_result"
    }
   ],
   "source": [
    "1 - 1/np.e"
   ]
  },
  {
   "cell_type": "code",
   "execution_count": null,
   "metadata": {},
   "outputs": [],
   "source": []
  }
 ],
 "metadata": {
  "kernelspec": {
   "display_name": "Python 3",
   "language": "python",
   "name": "python3"
  },
  "language_info": {
   "codemirror_mode": {
    "name": "ipython",
    "version": 3
   },
   "file_extension": ".py",
   "mimetype": "text/x-python",
   "name": "python",
   "nbconvert_exporter": "python",
   "pygments_lexer": "ipython3",
   "version": "3.6.8"
  }
 },
 "nbformat": 4,
 "nbformat_minor": 2
}
