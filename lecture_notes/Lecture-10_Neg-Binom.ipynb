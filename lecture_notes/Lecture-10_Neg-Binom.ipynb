{
 "cells": [
  {
   "cell_type": "markdown",
   "metadata": {},
   "source": [
    "# Lecture 10: Negative Binomial"
   ]
  },
  {
   "cell_type": "markdown",
   "metadata": {},
   "source": [
    "## Part 1. Negative Binomial\n",
    "\n",
    "The \"negative binomial\" is kind of a misnomer so don't let it throw you off.\n",
    "\n",
    "The story of this distribution is \"How many bernouli trials until you reach your nth success\"? \n",
    "\n",
    "PMF:\n",
    "\n",
    "$$P(X=n) = p^r(1-p)^n{n+r-1 \\choose r-1}$$\n",
    "\n",
    "Why? Because we have n failures ($(1-p)^n$) and r successes p^r(1-p) the issue is how these are arranged!\n",
    "\n",
    "We have a total of `n+r` elements, but one success MUST be planted at the end in order for our exit condition to be met. This means that we actually have one fewer elements to manipulate (`n+r-1`). The number of elements we can manipulate depends on our number of successes that we are interested, minus one for the exit. (`r-1`) Thus, the number of combos is $n+r-1 \\choose r-1$\n",
    "\n",
    "For each success, we can think of it as a separate geometric distribution. Since the expectations values of all of these distributions combine linearly to get our overall expectation value, we just need to multiply by the number of successes:\n",
    "\n",
    "$$E(x) = \\frac{rq}{p}$$"
   ]
  }
 ],
 "metadata": {
  "kernelspec": {
   "display_name": "Python 3",
   "language": "python",
   "name": "python3"
  },
  "language_info": {
   "codemirror_mode": {
    "name": "ipython",
    "version": 3
   },
   "file_extension": ".py",
   "mimetype": "text/x-python",
   "name": "python",
   "nbconvert_exporter": "python",
   "pygments_lexer": "ipython3",
   "version": "3.6.8"
  }
 },
 "nbformat": 4,
 "nbformat_minor": 2
}
